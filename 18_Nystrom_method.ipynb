{
  "nbformat": 4,
  "nbformat_minor": 0,
  "metadata": {
    "colab": {
      "provenance": []
    },
    "kernelspec": {
      "name": "python3",
      "display_name": "Python 3"
    },
    "language_info": {
      "name": "python"
    },
    "gpuClass": "standard"
  },
  "cells": [
    {
      "cell_type": "markdown",
      "source": [
        "#### Setup"
      ],
      "metadata": {
        "id": "s3IsISaBnwCL"
      }
    },
    {
      "cell_type": "markdown",
      "source": [
        "Previously, we mentioned that\n",
        "\n",
        "If we could generate virtual samples from the kernel matrix `over the entire input space` (all training and testing points), then the covariance structure among all data points would be properly accounted for. However, this is very inefficient computationally, even if it is not infeasible\n",
        "\n",
        "The computational problem comes from the fact that the full kernel matrix can be huge\n",
        "\n",
        "Here, we look at how Nystrom method can help to alleviate the problem"
      ],
      "metadata": {
        "id": "QftT80HCnyve"
      }
    },
    {
      "cell_type": "markdown",
      "source": [
        "#### Nystrom approximation of kernel matrices"
      ],
      "metadata": {
        "id": "itJlhKr3UQgr"
      }
    },
    {
      "cell_type": "markdown",
      "source": [
        "For our kernel matrix $X_k$, we can divide it up into 4 quandrants\n",
        "\n",
        "$$X_k =\\begin{bmatrix}A &B^T \\\\ B &C\\end{bmatrix}$$\n",
        "\n",
        "where the size of $A$ is much smaller than the size of $C$\n",
        "\n",
        "The idea of Nystrom method is that by calculating just sub-portion $A$ and $B$, we can approximate the entire $X_k$ and we don't need to compute and store the full $X_k$ (which can be very large, as mentioned)"
      ],
      "metadata": {
        "id": "CKRR_jjWCbGi"
      }
    },
    {
      "cell_type": "markdown",
      "source": [
        "More precisely, the method makes assumption that for $X_k$ of size $n \\times n$, it only has $m \\ll n$ non-zero eigenvalues in practical sense, and therefore, we can avoid having to work with the full $n \\times n$ matrix"
      ],
      "metadata": {
        "id": "EUhnCkl_Xpvd"
      }
    },
    {
      "cell_type": "markdown",
      "source": [
        "#### Approximate $C$"
      ],
      "metadata": {
        "id": "efRJ74LEZztm"
      }
    },
    {
      "cell_type": "markdown",
      "source": [
        "Let's say we have a scheme to pick $m$ data points (random sampling turns out to be good) out of $n$ to form a smaller kernel matrix $A$ with $m$ non-zero eigenvalues\n",
        "\n",
        "Since $X_k$ is `symmetric`, we know it has an `eigendecomposition` (removing all zero eigenvalues in practical sense) such that\n",
        "\n",
        "$$\\begin{align*}\n",
        "X_k&\\approx U\\Lambda U^T \\\\\n",
        "&=\\begin{bmatrix}U_1\\\\U_2\\end{bmatrix} \\Lambda \\begin{bmatrix}U_1\\\\U_2\\end{bmatrix}^T \\\\\n",
        "&=\\begin{bmatrix}U_1\\Lambda U_1^T & U_1\\Lambda U_2^T \\\\U_2\\Lambda U_1^T & U_2\\Lambda U_2^T\\end{bmatrix}\n",
        "\\end{align*}$$\n",
        "\n",
        "where $U_1$ is $m \\times m$ and $U_2$ is $(n-m) \\times m$, therefore, the sizes match $A, B, C$\n",
        "\n",
        "If $U_1$ is `invertible` (which it almost always is under random scheme), then\n",
        "\n",
        "$$A^{-1}=U_1^{-T}\\Lambda^{-1}U_1^{-1}$$\n",
        "\n",
        "and we have\n",
        "\n",
        "$$BA^{-1}B^T=U_2\\Lambda U_1^TU_1^{-T}\\Lambda^{-1}U_1^{-1}U_1\\Lambda U_2^T=U_2\\Lambda U_2^T=C$$"
      ],
      "metadata": {
        "id": "nA-4iUe7Z4Bw"
      }
    },
    {
      "cell_type": "markdown",
      "source": [
        "#### Virtual samples"
      ],
      "metadata": {
        "id": "8PUSSqYNfNUO"
      }
    },
    {
      "cell_type": "markdown",
      "source": [
        "Of course, we never want to compute $C$ directly\n",
        "\n",
        "Instead, we can write\n",
        "\n",
        "$$C=BA^{-1}B^T=\\left(BA^{-\\frac{1}{2}}\\right)\\left(BA^{-\\frac{1}{2}}\\right)^T$$\n",
        "\n",
        "If we define\n",
        "\n",
        "$$F=\\begin{bmatrix}A^{\\frac{1}{2}} \\\\ BA^{-\\frac{1}{2}}\\end{bmatrix}$$\n",
        "\n",
        "we can see that\n",
        "\n",
        "$$\\begin{align*}FF^T&=\\begin{bmatrix}A^{\\frac{1}{2}} \\\\ BA^{-\\frac{1}{2}}\\end{bmatrix}\\begin{bmatrix}A^{\\frac{1}{2}} \\\\ BA^{-\\frac{1}{2}}\\end{bmatrix}^T \\\\\n",
        "&=\\begin{bmatrix}A^{\\frac{1}{2}} A^{\\frac{1}{2}} & A^{\\frac{1}{2}} A^{-\\frac{1}{2}}B^T\\\\ BA^{-\\frac{1}{2}}A^{\\frac{1}{2}} & BA^{-\\frac{1}{2}}A^{-\\frac{1}{2}}B^T\\end{bmatrix} \\\\\n",
        "&=\\begin{bmatrix}A & B^T\\\\ B & BA^{-1}B^T\\end{bmatrix} \\\\\n",
        "\\end{align*}$$\n",
        "\n",
        "Therefore, the rows of $F$ can be chosen as virtual samples, and the above expression shows that the dot product approximates the kernel matrix $X_k$"
      ],
      "metadata": {
        "id": "tcm983HpfP2S"
      }
    },
    {
      "cell_type": "markdown",
      "source": [
        "Slightly rewrite $F$ as\n",
        "\n",
        "$$F=\\begin{bmatrix}A^{\\frac{1}{2}} \\\\ BA^{-\\frac{1}{2}}\\end{bmatrix}=\\begin{bmatrix}A \\\\ B\\end{bmatrix}A^{-\\frac{1}{2}}$$\n",
        "\n",
        "We see that under the hood, we actually approximate $X_k$ as\n",
        "\n",
        "$$\\boxed{X_k=\\begin{bmatrix}A \\\\ B\\end{bmatrix}A^{-1}\\begin{bmatrix}A \\\\ B\\end{bmatrix}^T}$$"
      ],
      "metadata": {
        "id": "cU5LC1aniYGI"
      }
    },
    {
      "cell_type": "markdown",
      "source": [
        "Now we can obtain virtual sample for individual data points\n",
        "\n",
        "This is exactly the same for training and for testing data point $x_i$, and the virtual sample is\n",
        "\n",
        "$$\\boxed{\\phi(x_i)=\\begin{bmatrix}k(x_i, x_1) & \\cdots & k(x_i, x_m)\\end{bmatrix}A^{-\\frac{1}{2}}}$$\n",
        "\n",
        "where $x_1, \\cdots, x_m$ are $m$ sampled point to construct $A$"
      ],
      "metadata": {
        "id": "sVMZwhTeSiYA"
      }
    },
    {
      "cell_type": "markdown",
      "source": [
        "Finally question is how to compute $A^{-\\frac{1}{2}}$?\n",
        "\n",
        "If $A$ has non-zero, distinct eigenvalues, then it is invertible and diagonalizable\n",
        "\n",
        "Recall that diagonalization can simplify many computations, including power\n",
        "\n",
        "$$\\begin{align*}\n",
        "A^k =U'\\text{diag}\\left(\\lambda_1^k,\\cdots,\\lambda_n^k\\right)U'^{T}\n",
        "\\end{align*}$$\n",
        "\n",
        "Therefore, using eigendecomposition of $A$ itself, we have\n",
        "\n",
        "$$A^{-\\frac{1}{2}}=U'\\Lambda'^{-\\frac{1}{2}} U'^T$$"
      ],
      "metadata": {
        "id": "21DL02yS7mb6"
      }
    },
    {
      "cell_type": "markdown",
      "source": [
        "We can verify how well virtual samples from Nystrom approximation can match the correlation based on the true RBF kernel function"
      ],
      "metadata": {
        "id": "xLfxQQvA85HV"
      }
    },
    {
      "cell_type": "code",
      "source": [
        "import numpy as np\n",
        "import matplotlib.pyplot as plt\n",
        "np.set_printoptions(formatter={'float': '{: 0.4f}'.format})\n",
        "plt.style.use('dark_background')"
      ],
      "metadata": {
        "id": "LAakHns80qMP"
      },
      "execution_count": 1,
      "outputs": []
    },
    {
      "cell_type": "code",
      "source": [
        "def rbf_kernel_vectorized(x_set_1, x_set_2, sigma_k):\n",
        "    diff = x_set_1[:, None, :] - x_set_2[None, :, :]\n",
        "    l2 = np.sum((diff / sigma_k) ** 2, axis=2)\n",
        "    k_mat = np.exp(-0.5 * l2)\n",
        "\n",
        "    return k_mat\n",
        "\n",
        "def rbf_nystrom_comparison(idx, d=1, m=30, n=100, sigma=1.):\n",
        "    x = np.linspace(0, 6, n) # n: number of data\n",
        "    m = m # number of virtual samples\n",
        "\n",
        "    # randomly select m from x\n",
        "    x_m_idx = np.random.choice(np.arange(n), m, replace=False)\n",
        "    x_m = x[x_m_idx]\n",
        "\n",
        "    A = rbf_kernel_vectorized(x_m.reshape(-1, 1), x_m.reshape(-1, 1), sigma)\n",
        "    B = rbf_kernel_vectorized(x.reshape(-1, 1), x_m.reshape(-1, 1), sigma)\n",
        "\n",
        "    eigvals, eigvecs = np.linalg.eigh(A)\n",
        "    eigvals[eigvals < 1e-10] = 0\n",
        "\n",
        "    # A^{-1/2}\n",
        "    eigvals_sqrt_inv = np.diag(1.0 / np.sqrt(eigvals[eigvals > 1e-10]))\n",
        "    eigvecs_trunc = eigvecs[:, eigvals > 1e-10]\n",
        "    A_inv_sqrt = eigvecs_trunc @ eigvals_sqrt_inv @ eigvecs_trunc.T\n",
        "\n",
        "    phi_x = B @ A_inv_sqrt  # virtual samples for all x\n",
        "    phi_x_m = phi_x[x_m_idx]  # virtual samples for x_m\n",
        "\n",
        "    # select an anchor point x_a\n",
        "    x_a = x[idx]\n",
        "\n",
        "    # RBF function between x and x_a\n",
        "    k_true = rbf_kernel_vectorized(x.reshape(-1, 1), x_a.reshape(1, -1), sigma).flatten()\n",
        "\n",
        "    # Nystrom: phi(x)^T phi(x_a)\n",
        "    phi_x_a = phi_x[idx]  # virtual sample for anchor point\n",
        "    k_approx = phi_x @ phi_x_a\n",
        "\n",
        "    error = np.linalg.norm(k_true - k_approx) / np.linalg.norm(k_true)\n",
        "    print(f\"Approximation error: {error:.6f}\")\n",
        "\n",
        "    plt.figure(figsize=(8,4))\n",
        "    plt.plot(x, k_true, 'm', linewidth=2, label='RBF function')\n",
        "    plt.plot(x, k_approx, 'c', linewidth=2, label='Nystrom approximation')\n",
        "    plt.legend()\n",
        "    plt.show()"
      ],
      "metadata": {
        "id": "7XPiS2ueyqiY"
      },
      "execution_count": 3,
      "outputs": []
    },
    {
      "cell_type": "code",
      "source": [
        "np.random.seed(42)\n",
        "\n",
        "rbf_nystrom_comparison(d=1, m=25, n=300, sigma=0.3, idx=200//3)"
      ],
      "metadata": {
        "colab": {
          "base_uri": "https://localhost:8080/",
          "height": 386
        },
        "id": "hFvYUjwSmQ9g",
        "outputId": "dbc894bf-8e78-4116-cb5a-17d34898df73"
      },
      "execution_count": 8,
      "outputs": [
        {
          "output_type": "stream",
          "name": "stdout",
          "text": [
            "Approximation error: 0.053698\n"
          ]
        },
        {
          "output_type": "display_data",
          "data": {
            "text/plain": [
              "<Figure size 800x400 with 1 Axes>"
            ],
            "image/png": "[encoded data removed]"
          },
          "metadata": {}
        }
      ]
    },
    {
      "cell_type": "code",
      "source": [],
      "metadata": {
        "id": "uV2fhFr9UJAZ"
      },
      "execution_count": null,
      "outputs": []
    }
  ]
}