{
  "nbformat": 4,
  "nbformat_minor": 0,
  "metadata": {
    "colab": {
      "provenance": []
    },
    "kernelspec": {
      "name": "python3",
      "display_name": "Python 3"
    },
    "language_info": {
      "name": "python"
    },
    "gpuClass": "standard"
  },
  "cells": [
    {
      "cell_type": "markdown",
      "source": [
        "#### Check out this wonderful video from 3Blue1Brown"
      ],
      "metadata": {
        "id": "HMOgnJl4mDTq"
      }
    },
    {
      "cell_type": "code",
      "source": [
        "from IPython.display import YouTubeVideo\n",
        "\n",
        "video_id = '3d6DsjIBzJ4'  # https://www.youtube.com/watch?v=3d6DsjIBzJ4\n",
        "YouTubeVideo(video_id, width=800, height=450)"
      ],
      "metadata": {
        "colab": {
          "base_uri": "https://localhost:8080/",
          "height": 471
        },
        "id": "iq9S7uH7mZng",
        "outputId": "52c9fad7-46a0-4eb2-dae0-6f9073e9aa97"
      },
      "execution_count": null,
      "outputs": [
        {
          "output_type": "execute_result",
          "data": {
            "text/plain": [
              "<IPython.lib.display.YouTubeVideo at 0x7c7dde6d9180>"
            ],
            "text/html": [
              "\n",
              "        <iframe\n",
              "            width=\"800\"\n",
              "            height=\"450\"\n",
              "            src=\"https://www.youtube.com/embed/3d6DsjIBzJ4\"\n",
              "            frameborder=\"0\"\n",
              "            allowfullscreen\n",
              "            \n",
              "        ></iframe>\n",
              "        "
            ],
            "image/jpeg": "[encoded data removed]"
          },
          "metadata": {},
          "execution_count": 1
        }
      ]
    },
    {
      "cell_type": "markdown",
      "source": [
        "#### `Taylor approximation` of a function $f(a)$, where $a$ is a `scalar` input"
      ],
      "metadata": {
        "id": "N4CmXHtw0PKZ"
      }
    },
    {
      "cell_type": "markdown",
      "source": [
        "For many applications, we are interested in a `polynomial approximation` of the behavior of function $f(a)$ around a particular input value, say, $a_0$. The reason we are interested in polynomial approximation is that\n",
        "* polynomials are relatively `easy to compute`, compared to complex functions\n",
        "* polynomials allow us to define the `level of approximation`, by progressively adding or removing terms\n",
        "\n",
        "For the approximation of $f$ `around` $a_0$, we call this `approximation function` $\\bar{f}$ and we consider a small `distance` $\\Delta a$ from $a_0$. We write out the polynomials of $\\Delta a$ as approximation of function at $a_0+\\Delta a$\n",
        "\n",
        "$$\\bar{f}(a_0+\\Delta a)=c_0\\cdot (\\Delta a)^0 + c_1\\cdot (\\Delta a)^1 + c_2\\cdot (\\Delta a)^2 + c_3\\cdot (\\Delta a)^3 + .... $$\n",
        "\n",
        "For convenience, we swap the variable by defining $a=a_0+\\Delta a$, which leads to\n",
        "\n",
        "$$\\boxed{\\bar{f}(a)=c_0\\cdot (a-a_0)^0 + c_1\\cdot (a-a_0)^1 + c_2\\cdot (a-a_0)^2 + c_3\\cdot (a-a_0)^3 + .... }$$\n",
        "\n",
        "In this equation, polynomial goes from 0th order to infinity-th order $(a-a_0)^m$, $m=0,1,....$, and for the `ith` term, there is a corresponding `coefficient` $c_i$"
      ],
      "metadata": {
        "id": "uQdRxPqVpr_B"
      }
    },
    {
      "cell_type": "markdown",
      "source": [
        "##### The `problem` is: what are all these $c_i$'s?"
      ],
      "metadata": {
        "id": "d6QwxYp40Sa-"
      }
    },
    {
      "cell_type": "markdown",
      "source": [
        "Often, if we want to solve a problem, we write out the form of solution as if we know it, then we ask ourselves, `if this is the solution`, `what needs to happen?`, then we solve this \"what needs to happen\" to get what we want\n",
        "\n",
        "Here, the following `needs to happen`:\n",
        "* At $a=a_0$, `values` of `function` $f(a)$ and $\\bar{f}(a)$ should be the same\n",
        "* At $a=a_0$, `values` of `first derivative` of $f(a)$ and $\\bar{f}(a)$ should be the same\n",
        "* At $a=a_0$, `values` of `second derivative` of $f(a)$ and $\\bar{f}(a)$ should be the same\n",
        "* ... and so on ...\n",
        "\n",
        "So, we check them `one-by-one`\n"
      ],
      "metadata": {
        "id": "25wO33e4o-U6"
      }
    },
    {
      "cell_type": "markdown",
      "source": [
        "##### `Step 1`: check `function value` at $a=a_0$"
      ],
      "metadata": {
        "id": "HgDIu1Ya0U2-"
      }
    },
    {
      "cell_type": "markdown",
      "source": [
        "Recall our approximation\n",
        "\n",
        "$$\\boxed{\\bar{f}(a)=c_0\\cdot (a-a_0)^0 + \\color{red}{c_1\\cdot (a-a_0)^1} + \\color{orange}{c_2\\cdot (a-a_0)^2} + c_3\\cdot (a-a_0)^3 + .... }$$\n",
        "\n",
        "For original function $f(a)$, we plug in $a=a_0$, and we get $f(a_0)$\n",
        "\n",
        "For approximation $\\bar{f}(a)$, we plug $a=a_0$, and we get $\\bar{f}(a_0)=c_0$, as a result\n",
        "\n",
        "$$\\boxed{c_0=f(a_0)}$$"
      ],
      "metadata": {
        "id": "ejgnUPzEzwYT"
      }
    },
    {
      "cell_type": "markdown",
      "source": [
        "##### `Step 2`: check `first derivative value` at $a=a_0$"
      ],
      "metadata": {
        "id": "kxqCcMmg0X0A"
      }
    },
    {
      "cell_type": "markdown",
      "source": [
        "For $f(a)$, we take `first derivative`, and plug in $a=a_0$, we get $f'(a_0)$\n",
        "\n",
        "For $\\bar{f}(a)$, we first take `first derivative` to get\n",
        "\n",
        "$$\\bar{f}'(a)= 0 + \\color{red}{c_1\\cdot 1} + \\color{orange}{c_2\\cdot 2 \\cdot (a-a_0)} + c_3\\cdot 3\\cdot (a-a_0)^2 + .... $$\n",
        "\n",
        "Here, as the first term $c_0(a-a_0)^0$ in $\\bar{f}(a)$ is a `constant` $c_0=f(a_0)$, it goes to `zero` in the first derivative\n",
        "\n",
        "Then, `plug in` $a=a_0$, we get\n",
        "\n",
        "$$f'(a_0)=c_1\\cdot 1$$\n",
        "\n",
        "or\n",
        "\n",
        "$$\\boxed{c_1=\\frac{f'(a_0)}{1}}$$"
      ],
      "metadata": {
        "id": "4P9QiWQY4d5f"
      }
    },
    {
      "cell_type": "markdown",
      "source": [
        "##### `Step 3`: check `second derivative value` at $a=a_0$"
      ],
      "metadata": {
        "id": "tyD1G2TS0c0_"
      }
    },
    {
      "cell_type": "markdown",
      "source": [
        "For $f(a)$, we take `second derivative`, and plug in $a=a_0$, we get $f''(a_0)$\n",
        "\n",
        "For $\\bar{f}(a)$, we first take `second derivative` to get\n",
        "\n",
        "$$\\bar{f}''(a)= 0 + \\color{red}{0} + \\color{orange}{c_2\\cdot 2 \\cdot 1} + c_3\\cdot 3\\cdot 2 \\cdot(a-a_0)  + .... $$\n",
        "\n",
        "Here, the first term $c_0(a-a_0)^0$ and the second term $c_1(a-a_0)^1$ in $\\bar{f}(a)$ go to `zero` in the second derivative\n",
        "\n",
        "Then, `plug in` $a=a_0$, we get\n",
        "\n",
        "$$f''(a_0)=c_2\\cdot 2 \\cdot 1$$\n",
        "\n",
        "or\n",
        "\n",
        "$$\\boxed{c_2=\\frac{f''(a_0)}{1\\cdot 2}}$$"
      ],
      "metadata": {
        "id": "krkE4tS68cSw"
      }
    },
    {
      "cell_type": "markdown",
      "source": [
        "##### We can `keep going` (although not needed) and summarize"
      ],
      "metadata": {
        "id": "Qw9Noc140gQd"
      }
    },
    {
      "cell_type": "markdown",
      "source": [
        "$$\\boxed{c_i=\\frac{f^{(i)}(a_0)}{i!}}$$\n",
        "\n",
        "Here, the numerator is the `ith` derivative of $f(a)$ `evaluated` at $a=a_0$, and the denominator is $i!=1\\cdot 2\\cdot 3\\cdot \\,... \\cdot i$"
      ],
      "metadata": {
        "id": "5qwCfPED-U1R"
      }
    },
    {
      "cell_type": "markdown",
      "source": [
        "##### `Important`"
      ],
      "metadata": {
        "id": "siG1Hd0sCqFS"
      }
    },
    {
      "cell_type": "markdown",
      "source": [
        "We MUST `first` compute the `ith` derivative $f^{(i)}(a)$ (which is still a function of $a$), `before` we plug in $a=a_0$ (to evaluate this `ith` derivative function at $a=a_0$)"
      ],
      "metadata": {
        "id": "2qowCuag0jdG"
      }
    },
    {
      "cell_type": "markdown",
      "source": [
        "#### What if we have a function of `multivariate input`"
      ],
      "metadata": {
        "id": "QijcSn4C0nGZ"
      }
    },
    {
      "cell_type": "markdown",
      "source": [
        "For example, $f(\\theta)$\n",
        "\n",
        "$$\\theta^T = [\\theta_1, \\theta_2]$$\n",
        "\n",
        "The `value of the function` is still a scalar"
      ],
      "metadata": {
        "id": "fXqzgH68r_BP"
      }
    },
    {
      "cell_type": "markdown",
      "source": [
        "With this multivariate function of two inputs, we want the function $f(\\theta)$ and the approximation $\\bar{f}(\\theta)$ to match in all partial derivatives at some point $\\theta_0^T=[\\theta_{0,1}, \\theta_{0,2}]$\n",
        "\n",
        "$$\\boxed{\\bar{f}(\\theta)=c_0\\cdot (\\theta-\\theta_0)^0 + \\color{red}{\\sum_{i=1}^2c_{1,i}\\cdot (\\theta_i-\\theta_{0,i})^1} + \\color{orange}{\\sum_{i=1,j=1}^2c_{2,i,j}\\cdot (\\theta_i-\\theta_{0,i})(\\theta_j-\\theta_{0,j}) + .... }}$$\n",
        "\n",
        "$f(\\theta)$ has two partial derivatives, so we have two first-derivative terms, and the function has four 2nd order partial derivatives, so we have four second-derivative terms"
      ],
      "metadata": {
        "id": "ZVcMeGVK2kv8"
      }
    },
    {
      "cell_type": "markdown",
      "source": [
        "##### `Step 1`: check `function value` at $\\theta=\\theta_0$"
      ],
      "metadata": {
        "id": "-K0-MGPN02wm"
      }
    },
    {
      "cell_type": "markdown",
      "source": [
        "This is straightforward\n",
        "\n",
        "For original function $f(\\theta)$, we plug in $\\theta=\\theta_0$, and we get $f(\\theta_0)$\n",
        "\n",
        "For approximation $\\bar{f}(\\theta)$, we plug in $\\theta=\\theta_0$, and we get $\\bar{f}(\\theta_0)=c_0$, as a result\n",
        "\n",
        "$$\\boxed{c_0=f(\\theta_0)}$$"
      ],
      "metadata": {
        "id": "PRtKsERjsFj8"
      }
    },
    {
      "cell_type": "markdown",
      "source": [
        "##### `Step 2`: check `first derivative values` at $\\theta=\\theta_0$"
      ],
      "metadata": {
        "id": "K3F36zu206DM"
      }
    },
    {
      "cell_type": "markdown",
      "source": [
        "For $f(\\theta)$, we first take `derivative` with respect to $\\theta_1$, and plug in $\\theta=\\theta_0$, we get $\\left.\\frac{\\partial f}{\\partial\\theta_1}\\right|_{\\theta=\\theta_0}$\n",
        "\n",
        "For $\\bar{f}(\\theta)$, we first take `derivative` with respect to $\\theta_1$ to get\n",
        "\n",
        "$$\\frac{\\partial\\bar{f}}{\\partial\\theta_1}=0 + \\color{red}{c_{1,1}\\cdot \\frac{\\partial}{\\partial\\theta_1}(\\theta_1-\\theta_{0,1})} + \\color{red}{c_{1,2}\\cdot \\frac{\\partial}{\\partial\\theta_1}(\\theta_2-\\theta_{0,2})} + \\color{orange}{c_{2,1,1}\\cdot \\frac{\\partial}{\\partial\\theta_1}(\\theta_1-\\theta_{0,1})(\\theta_1-\\theta_{0,1})+c_{2,1,2}\\cdot \\frac{\\partial}{\\partial\\theta_1}(\\theta_1-\\theta_{0,1})(\\theta_2-\\theta_{0,2})+c_{2,2,1}\\cdot \\frac{\\partial}{\\partial\\theta_1}(\\theta_2-\\theta_{0,2})(\\theta_1-\\theta_{0,1})+c_{2,2,2}\\cdot \\frac{\\partial}{\\partial\\theta_1}(\\theta_2-\\theta_{0,2})(\\theta_2-\\theta_{0,2})}$$\n",
        "\n",
        "Apparently, for the two first-derivative terms, only the first survived and the second goes to zero as $\\theta_2-\\theta_{0,2}$ does not contain $\\theta_1$\n",
        "\n",
        "Also, the four second-derivation terms all go to zero as each will contain either $\\theta_1-\\theta_{0, 1}$ or $\\theta_2-\\theta_{0, 2}$ after taking the first derivative, which, when `evaluated` at $\\theta_0^T=[\\theta_{0,1}, \\theta_{0,2}]$, become zero\n",
        "\n",
        "As a result\n",
        "\n",
        "$$c_{1,1}\\cdot1= \\left.\\frac{\\partial f}{\\partial\\theta_1}\\right|_{\\theta=\\theta_0} $$\n",
        "\n",
        "or\n",
        "\n",
        "$$\\boxed{c_{1,1}=\\frac{\\left.\\frac{\\partial f}{\\partial\\theta_1}\\right|_{\\theta=\\theta_0}}{1}}$$\n",
        "\n",
        "Similarly,\n",
        "\n",
        "$$\\boxed{c_{1,2}=\\frac{\\left.\\frac{\\partial f}{\\partial\\theta_2}\\right|_{\\theta=\\theta_0}}{1}}$$"
      ],
      "metadata": {
        "id": "4m3eKYJ85bvp"
      }
    },
    {
      "cell_type": "markdown",
      "source": [
        "##### `Step 3.1`: check `second derivative values` at $\\theta=\\theta_0$"
      ],
      "metadata": {
        "id": "0PtO-sMu0_Yr"
      }
    },
    {
      "cell_type": "markdown",
      "source": [
        "For $f(\\theta)$, we first take `second derivative` with respect to $\\theta_1$, and plug in $\\theta=\\theta_0$, we get $\\left.\\frac{\\partial^2f}{\\partial\\theta_1^2}\\right|_{\\theta=\\theta_0}$\n",
        "\n",
        "For $\\bar{f}(\\theta)$, we first take `second derivative` with respect to $\\theta_1$ to get\n",
        "\n",
        "$$\\frac{\\partial^2\\bar{f}}{\\partial\\theta_1^2}=0 + \\color{red}{0} + \\color{red}{0} + \\color{orange}{c_{2,1,1}\\cdot \\frac{\\partial^2}{\\partial\\theta_1^2}(\\theta_1-\\theta_{0,1})(\\theta_1-\\theta_{0,1})+c_{2,1,2}\\cdot \\frac{\\partial^2}{\\partial\\theta_1^2}(\\theta_1-\\theta_{0,1})(\\theta_2-\\theta_{0,2})+c_{2,2,1}\\cdot \\frac{\\partial^2}{\\partial\\theta_1^2}(\\theta_2-\\theta_{0,2})(\\theta_1-\\theta_{0,1})+c_{2,2,2}\\cdot \\frac{\\partial^2}{\\partial\\theta_1^2}(\\theta_2-\\theta_{0,2})(\\theta_2-\\theta_{0,2})}$$\n",
        "\n",
        "Apparently, the two first-derivative terms all go to zero\n",
        "\n",
        "Also, only `one` of the four second-derivation terms survived after taking the second derivative, which is the one with $(\\theta_1-\\theta_{0, 1})(\\theta_1-\\theta_{0, 1})$\n",
        "\n",
        "As a result\n",
        "\n",
        "$$c_{2,1,1}\\cdot 2\\cdot 1= \\left.\\frac{\\partial^2f}{\\partial\\theta_1^2}\\right|_{\\theta=\\theta_0} $$\n",
        "\n",
        "or\n",
        "\n",
        "$$\\boxed{c_{2,1,1}=\\frac{\\left.\\frac{\\partial^2f}{\\partial\\theta_1^2}\\right|_{\\theta=\\theta_0}}{2\\cdot 1}}$$\n",
        "\n",
        "Similarly,\n",
        "\n",
        "$$\\boxed{c_{2,2,2}=\\frac{\\left.\\frac{\\partial^2f}{\\partial\\theta_2^2}\\right|_{\\theta=\\theta_0}}{2\\cdot 1}}$$"
      ],
      "metadata": {
        "id": "YUdhMKH8-V2T"
      }
    },
    {
      "cell_type": "markdown",
      "source": [
        "##### `Step 3.2`: check `cross partial derivative` at $\\theta=\\theta_0$"
      ],
      "metadata": {
        "id": "--vYg33j_jer"
      }
    },
    {
      "cell_type": "markdown",
      "source": [
        "For $f(\\theta)$, we first take `derivative` with respect to $\\theta_1$, and then with respect to $\\theta_2$, we plug in $\\theta=\\theta_0$, we get $\\left.\\frac{\\partial^2f}{\\partial\\theta_1 \\partial\\theta_2}\\right|_{\\theta=\\theta_0}$\n",
        "\n",
        "For $\\bar{f}(\\theta)$, we do the same and take the cross partial derivative to get\n",
        "\n",
        "$$\\frac{\\partial^2\\bar{f}}{\\partial\\theta_1 \\partial\\theta_2}=0 + \\color{red}{0} + \\color{red}{0} + \\color{orange}{c_{2,1,1}\\cdot \\frac{\\partial^2}{\\partial\\theta_1 \\partial\\theta_2}(\\theta_1-\\theta_{0,1})(\\theta_1-\\theta_{0,1})+c_{2,1,2}\\cdot \\frac{\\partial^2}{\\partial\\theta_1 \\partial\\theta_2}(\\theta_1-\\theta_{0,1})(\\theta_2-\\theta_{0,2})+c_{2,2,1}\\cdot \\frac{\\partial^2}{\\partial\\theta_1 \\partial\\theta_2}(\\theta_2-\\theta_{0,2})(\\theta_1-\\theta_{0,1})+c_{2,2,2}\\cdot \\frac{\\partial^2}{\\partial\\theta_1 \\partial\\theta_2}(\\theta_2-\\theta_{0,2})(\\theta_2-\\theta_{0,2})}$$\n",
        "\n",
        "Similarly, the two first-derivative terms all go to zero\n",
        "\n",
        "Also, only `two` of the four second-derivation terms survived after taking the cross partial derivative, which are the ones with $(\\theta_1-\\theta_{0, 1})(\\theta_2-\\theta_{0, 2})$\n",
        "\n",
        "As a result\n",
        "\n",
        "$$\\boxed{c_{2,1,2}=c_{2,2,1}=\\frac{\\left.\\frac{\\partial^2f}{\\partial\\theta_1\\partial\\theta_2}\\right|_{\\theta=\\theta_0}}{2}=\\frac{\\left.\\frac{\\partial^2f}{\\partial\\theta_2\\partial\\theta_1}\\right|_{\\theta=\\theta_0}}{2}}$$"
      ],
      "metadata": {
        "id": "bP7UM6Us_f3f"
      }
    },
    {
      "cell_type": "markdown",
      "source": [
        "Not going to go on, as third derivative will have much more terms....\n",
        "\n",
        "The Taylor approximation of $f(\\theta)$ can be written nicely in matrix form\n",
        "\n",
        "$$f\\left(\\begin{bmatrix}\\theta_1 \\\\ \\theta_2\\end{bmatrix}\\right)=f\\left(\\begin{bmatrix}\\theta_{0,1} \\\\ \\theta_{0,2}\\end{bmatrix}\\right)+\\color{red}{\\begin{bmatrix}\\left.\\frac{\\partial f}{\\partial\\theta_1}\\right|_{\\theta=\\theta_0} & \\left.\\frac{\\partial f}{\\partial\\theta_2}\\right|_{\\theta=\\theta_0}\\end{bmatrix}\\begin{bmatrix}\\theta_1-\\theta_{0,1} \\\\ \\theta_2-\\theta_{0,2}\\end{bmatrix}}+\\color{orange}{\\frac{1}{2}\\begin{bmatrix}\\theta_1-\\theta_{0,1} & \\theta_2-\\theta_{0,2}\\end{bmatrix}\\begin{bmatrix} \\left.\\frac{\\partial^2f}{\\partial\\theta_1^2}\\right|_{\\theta=\\theta_0} & \\left.\\frac{\\partial^2f}{\\partial\\theta_1\\partial\\theta_2}\\right|_{\\theta=\\theta_0} \\\\ \\left.\\frac{\\partial^2f}{\\partial\\theta_2\\partial\\theta_1}\\right|_{\\theta=\\theta_0} & \\left.\\frac{\\partial^2f}{\\partial\\theta_2^2}\\right|_{\\theta=\\theta_0} \\end{bmatrix} \\begin{bmatrix}\\theta_1-\\theta_{0,1} \\\\ \\theta_2-\\theta_{0,2}\\end{bmatrix}} + ...$$\n",
        "\n",
        "or\n",
        "\n",
        "$$f\\left(\\begin{bmatrix}\\theta_1 \\\\ \\theta_2\\end{bmatrix}\\right)=c_0+\\color{red}{\\begin{bmatrix}c_{1,1} & c_{1,2}\\end{bmatrix}\\begin{bmatrix}\\theta_1-\\theta_{0,1} \\\\ \\theta_2-\\theta_{0,2}\\end{bmatrix}}+\\color{orange}{\\begin{bmatrix}\\theta_1-\\theta_{0,1} & \\theta_2-\\theta_{0,2}\\end{bmatrix}\\begin{bmatrix} c_{2,1,1} & c_{2,1,2} \\\\ c_{2,2,1} & c_{2,2,2} \\end{bmatrix}\\begin{bmatrix}\\theta_1-\\theta_{0,1} \\\\ \\theta_2-\\theta_{0,2}\\end{bmatrix}} + ...$$\n"
      ],
      "metadata": {
        "id": "x9G9lTPzA2yi"
      }
    },
    {
      "cell_type": "code",
      "source": [],
      "metadata": {
        "id": "zFDGR8Ec1Bsb"
      },
      "execution_count": null,
      "outputs": []
    }
  ]
}