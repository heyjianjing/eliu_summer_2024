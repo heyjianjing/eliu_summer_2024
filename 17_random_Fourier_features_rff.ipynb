{
  "nbformat": 4,
  "nbformat_minor": 0,
  "metadata": {
    "colab": {
      "provenance": []
    },
    "kernelspec": {
      "name": "python3",
      "display_name": "Python 3"
    },
    "language_info": {
      "name": "python"
    },
    "gpuClass": "standard"
  },
  "cells": [
    {
      "cell_type": "markdown",
      "source": [
        "#### The need for data-independent $\\phi(x)$"
      ],
      "metadata": {
        "id": "dLENRj3iObli"
      }
    },
    {
      "cell_type": "markdown",
      "source": [
        "One of the annoying things we have encountered so far is that the virtual samples $\\phi(x)$ we obtained via eigendecomposition for Bayesian kernel regression is `data-dependent`\n",
        "\n",
        "That is, the virtual samples we get can only approximate the covariance structure over the data points that are used to generate these virtual samples, which can lead to some problems\n",
        "\n",
        "* As shown previously, we have to `correct` the prediction `variance` in the end, as the covariance structure among testing data points is involved in the computation of prediction variance and our virtual samples cannot properly account for it\n",
        "* Of course, if we could generate virtual samples from the kernel matrix over the entire input space (all training and testing points), then the covariance structure among all data points would be properly accounted for. However, this is very inefficient computationally, even if it is not infeasible\n",
        "\n",
        "To take our approach based on weight-space view a bit further, we would like to make virtual samples `data-independent`\n",
        "\n",
        "That is, we want to find a `computationally useful` mapping (as we have shown that the true one is infinite-dimensional) $\\phi(x)$ that we can directly compute for each input $x$, and for every pair of $x_1, x_2$, the mapping preserves the correlation (as defined by `RBF kernel function` for our case)\n",
        "\n",
        "$$\\phi(x_1)^T\\phi(x_2)=e^{-\\frac{\\|x_1-x_2\\|^2}{2\\sigma^2}}$$"
      ],
      "metadata": {
        "id": "F4M7X55EOjP5"
      }
    },
    {
      "cell_type": "markdown",
      "source": [
        "#### Random features"
      ],
      "metadata": {
        "id": "itJlhKr3UQgr"
      }
    },
    {
      "cell_type": "markdown",
      "source": [
        "Two great resources\n",
        "* https://random-walks.org/book/papers/rff/rff.html\n",
        "* https://gregorygundersen.com/blog/2019/12/23/random-fourier-features/"
      ],
      "metadata": {
        "id": "vSvTDrOlmcjx"
      }
    },
    {
      "cell_type": "markdown",
      "source": [
        "Let $\\omega$ be a random $d$-dimensional vector from standard Gaussian distribution $\\omega \\sim N(0, I)$ and let $e(x)=\\exp(i\\omega^Tx)$\n",
        "\n",
        "Let $\\delta = x_1-x_2$, we write out the following expectation\n",
        "\n",
        "$$\\begin{align*}\n",
        "\\mathbb{E}_{\\omega}[e(x_1)e(x_2)^*] & = \\mathbb{E}_{\\omega}[\\exp(i\\omega^Tx_1)\\exp(-i\\omega^Tx_2)] \\\\\n",
        "&=\\mathbb{E}_{\\omega}[\\exp(i\\omega^T(x_1-x_2)] \\\\\n",
        "&=\\int_{R^d}p(\\omega)\\exp(i\\omega^T(x_1-x_2)) d\\omega \\\\\n",
        "&=\\int_{R^d}p(\\omega)\\exp(i\\omega^T\\delta) d\\omega \\\\\n",
        "& \\text{plug in standard Gaussian expression } p(\\omega)\\\\\n",
        "&=(2\\pi)^{-d/2}\\int_{R^d}\\exp(-\\frac{1}{2}\\omega^T\\omega)\\exp(i\\omega^T\\delta) d\\omega \\\\\n",
        "&=(2\\pi)^{-d/2}\\int_{R^d}\\exp\\left(-\\frac{1}{2}\\omega^T\\omega+i\\omega^T\\delta\\right)\n",
        "d\\omega \\\\\n",
        "&=(2\\pi)^{-d/2}\\int_{R^d}\\exp\\left(-\\frac{1}{2}\\left(\\omega^T\\omega-2i\\omega^T\\delta-\\delta^T\\delta\\right)-\\frac{1}{2}\\delta^T\\delta\\right)\n",
        "d\\omega \\\\\n",
        "&=(2\\pi)^{-d/2}\\exp\\left(-\\frac{1}{2}\\delta^T\\delta\\right)\\int_{R^d}\\exp\\left(-\\frac{1}{2}\\left(\\omega^T\\omega-2i\\omega^T\\delta-\\delta^T\\delta\\right)\\right)\n",
        "d\\omega \\\\\n",
        "&=(2\\pi)^{-d/2}\\exp\\left(-\\frac{1}{2}\\delta^T\\delta\\right)\\int_{R^d}\\exp\\left(-\\frac{1}{2}(\\omega-i\\delta)^T(\\omega-i\\delta)\\right)\n",
        "d\\omega \\\\\n",
        "& \\text{the integral is unnormalized Gaussian} \\\\\n",
        "&=(2\\pi)^{-d/2} \\exp\\left(-\\frac{1}{2}\\delta^T\\delta\\right) (2\\pi)^{d/2} \\\\\n",
        "&=\\exp\\left(-\\frac{1}{2}\\delta^T\\delta\\right) \\\\\n",
        "&=\\exp\\left(-\\frac{1}{2}\\|x_1-x_2\\|^2\\right)\n",
        "\\end{align*}$$\n",
        "\n",
        "We see that this is the RBF kernel we want!\n",
        "\n",
        "Now, we need to have this approximated by `dot product` of a mapping"
      ],
      "metadata": {
        "id": "4cmnNqvLz2qP"
      }
    },
    {
      "cell_type": "markdown",
      "source": [
        "We know that we can approximate the integral above\n",
        "\n",
        "$$\\int_{R^d}p(\\omega)\\exp(i\\omega^T(x_1-x_2)) d\\omega$$\n",
        "\n",
        "using `Monte Carlo` method\n",
        "\n",
        "$$\\begin{align*}\n",
        "\\mathbb{E}_{\\omega}[e(x_1)e(x_2)^*] & = \\mathbb{E}_{\\omega}[\\exp(i\\omega^Tx_1)\\exp(-i\\omega^Tx_2)] \\\\\n",
        "&=\\mathbb{E}_{\\omega}[\\exp(i\\omega^T(x_1-x_2)] \\\\\n",
        "&=\\int_{R^d}p(\\omega)\\exp(i\\omega^T(x_1-x_2)) d\\omega \\\\\n",
        "& \\approx \\frac{1}{m}\\sum_{j=1}^m \\exp(i\\omega_j^T(x_1-x_2)) \\\\\n",
        "&=\\frac{1}{\\sqrt{m}}\\begin{bmatrix}\\exp(i\\omega_1^Tx_1)\\\\\\exp(i\\omega_2^Tx_1)\\\\ \\vdots \\\\ \\exp(i\\omega_m^Tx_1)\\end{bmatrix}^T\\frac{1}{\\sqrt{m}}\\begin{bmatrix}\\exp(-i\\omega_1^Tx_2)\\\\\\exp(-i\\omega_2^Tx_2)\\\\ \\vdots \\\\ \\exp(-i\\omega_m^Tx_2)\\end{bmatrix}\n",
        "\\end{align*}$$\n",
        "\n",
        "We are getting close as the final expression is now in dot product of two vectors, but we still need to get rid of the imaginary part"
      ],
      "metadata": {
        "id": "-3mFdpcxaGX0"
      }
    },
    {
      "cell_type": "markdown",
      "source": [
        "Note that both $\\omega$ and our kernel function results are `real`, therefore, we have (with Euler's formula)\n",
        "\n",
        "$$\\boxed{\\exp(i\\omega^T(x_1-x_2))=\\cos(\\omega^T(x_1-x_2))}$$\n",
        "\n",
        "If we define $z(x)=\\sqrt{2} \\cos(\\omega^Tx+b), \\, b\\sim \\text{Uniform}(0, 2\\pi)$\n",
        "\n",
        "and with the following\n",
        "\n",
        "$$\\begin{align*}\n",
        "\\cos(x+y) + \\cos(x-y) &= \\cos(x+y)+\\cos(x+(-y))\\\\\n",
        "&= (\\cos x \\cos y- \\sin x \\sin y)+(\\cos x \\cos (-y) -\\sin x \\sin (-y)) \\\\\n",
        "&=2 \\cos x \\cos y\n",
        "\\end{align*}$$\n",
        "\n",
        "we can show that\n",
        "\n",
        "$$\\begin{align*}\n",
        "\\mathbb{E}_{\\omega}[z(x_1)z(x_2)] & = \\mathbb{E}_{\\omega}[\\sqrt{2} \\cos(\\omega^Tx_1+b)\\sqrt{2} \\cos(\\omega^Tx_2+b)] \\\\\n",
        "& = \\mathbb{E}_{\\omega,b}[\\cos(\\omega^T(x_1+x_2)+2b)] + \\mathbb{E}_{\\omega}[\\cos(\\omega^T(x_1-x_2))] \\\\\n",
        "& \\text{law of total expectation} \\\\\n",
        "&=\\mathbb{E}_{\\omega}[\\mathbb{E}_{b}[\\cos(\\omega^T(x_1+x_2)+2b)|\\omega]]+ \\mathbb{E}_{\\omega}[\\cos(\\omega^T(x_1-x_2))] \\\\\n",
        "&=\\mathbb{E}_{\\omega}[\\frac{1}{2\\pi}\\int_0^{2\\pi} \\cos(\\omega^T(x_1+x_2)+2b) \\,db]+ \\mathbb{E}_{\\omega}[\\cos(\\omega^T(x_1-x_2))] \\\\\n",
        "& \\text{integral in first term is zero due to periodicity of cosine} \\\\\n",
        "&=\\boxed{\\mathbb{E}_{\\omega}[\\cos(\\omega^T(x_1-x_2))]}\n",
        "\\end{align*}$$"
      ],
      "metadata": {
        "id": "Y-uY6iXHdOhe"
      }
    },
    {
      "cell_type": "markdown",
      "source": [
        "#### Random Fourier features (RFFs)"
      ],
      "metadata": {
        "id": "cPNIFMcVnsoB"
      }
    },
    {
      "cell_type": "markdown",
      "source": [
        "Now we can define our $\\phi(x)$ as\n",
        "\n",
        "$$\\begin{align*}\n",
        "\\phi(x) &=\\frac{1}{\\sqrt{m}}\\begin{bmatrix}z(x; \\omega_1, b_1) \\\\ \\vdots \\\\z(x; \\omega_m, b_m) \\end{bmatrix}\\\\\n",
        "&= \\begin{bmatrix}\\sqrt{\\frac{2}{m}}\\cos(\\omega_1^Tx+b_1) \\\\ \\vdots \\\\\\sqrt{\\frac{2}{m}}\\cos(\\omega_m^Tx+b_m)\\end{bmatrix}\n",
        "\\end{align*}$$"
      ],
      "metadata": {
        "id": "b5AeonE5oe8E"
      }
    },
    {
      "cell_type": "markdown",
      "source": [
        "We can show that\n",
        "\n",
        "$$\\begin{align*}\n",
        "\\phi(x_1)^T\\phi(x_2)&=\\begin{bmatrix}\\sqrt{\\frac{2}{m}}\\cos(\\omega_1^Tx_1+b_1) &\\cdots &\\sqrt{\\frac{2}{m}}\\cos(\\omega_m^Tx_1+b_m)\\end{bmatrix}\\begin{bmatrix}\\sqrt{\\frac{2}{m}}\\cos(\\omega_1^Tx_2+b_1) \\\\ \\vdots \\\\\\sqrt{\\frac{2}{m}}\\cos(\\omega_m^Tx_2+b_m)\\end{bmatrix} \\\\\n",
        "&= \\frac{1}{m}\\sum_{i=1}^m\\left[\\sqrt{2}\\cos(\\omega_i^Tx_1+b_i)\\right]\\left[\\sqrt{2}\\cos(\\omega_i^Tx_2+b_i)\\right] \\\\\n",
        "&\\approx \\mathbb{E}_{\\omega}[\\cos(\\omega^T(x_1-x_2))]\\\\\n",
        "&=\\exp\\left(-\\frac{1}{2}\\|x_1-x_2\\|^2\\right)\n",
        "\\end{align*}$$\n",
        "\n",
        "\n",
        "where\n",
        "\n",
        "* $\\omega_i$ follows `Gaussian distribution` $N(0, I)$ (vector or scalar, scale covariance by $\\frac{1}{\\sigma_k}$ if $\\sigma_k\\neq 1$)\n",
        "* $b_i$ follows `uniform distribution` over $(0, 2\\pi)$ (scalar)\n",
        "* $m$ is a parameter indicating the number of RFFs to construct $\\phi(\\cdot)$"
      ],
      "metadata": {
        "id": "szAYTzQYl1pT"
      }
    },
    {
      "cell_type": "markdown",
      "source": [
        "#### Matrix notation"
      ],
      "metadata": {
        "id": "ldE7URL0qRT7"
      }
    },
    {
      "cell_type": "markdown",
      "source": [
        "If we have $n$ data points $x_1, \\cdots, x_n\\in\\mathbf{R}^d$, then their RFFs can be expressed compactly as\n",
        "\n",
        "$$\\begin{align*}\n",
        "\\begin{bmatrix}\\phi(x_1)^T \\\\ \\vdots \\\\ \\phi(x_n)^T\\end{bmatrix}\n",
        "&= \\begin{bmatrix}\\begin{bmatrix}\\sqrt{\\frac{2}{m}}\\cos(\\omega_{1}^Tx_1+b_1) &\\cdots &\\sqrt{\\frac{2}{m}}\\cos(\\omega_{m}^Tx_1+b_m)\\end{bmatrix} \\\\ \\vdots \\\\ \\begin{bmatrix}\\sqrt{\\frac{2}{m}}\\cos(\\omega_{1}^Tx_n+b_1) &\\cdots &\\sqrt{\\frac{2}{m}}\\cos(\\omega_{m}^Tx_n+b_m)\\end{bmatrix}\\end{bmatrix} \\\\\n",
        "&=\\sqrt{\\frac{2}{m}}\\cos \\left(\\begin{bmatrix}\\begin{bmatrix}(\\omega_{1}^Tx_1+b_1) &\\cdots &(\\omega_{m}^Tx_1+b_m)\\end{bmatrix} \\\\ \\vdots \\\\ \\begin{bmatrix}(\\omega_{1}^Tx_n+b_1) &\\cdots &(\\omega_{m}^Tx_n+b_m)\\end{bmatrix}\\end{bmatrix}\\right)\\\\\n",
        "&=\\sqrt{\\frac{2}{m}}\\cos  \\left(\\begin{bmatrix}x_1^T \\\\ \\vdots \\\\x_n^T\\end{bmatrix}_{n \\times d}\\begin{bmatrix}\\omega_1 & \\cdots &\\omega_m\\end{bmatrix}_{d \\times m}+\\begin{bmatrix}b_1 & \\cdots &b_m \\end{bmatrix}_{1 \\times m}\\right)\n",
        "\\end{align*}$$\n",
        "\n",
        "where the final line uses `broadcasting`"
      ],
      "metadata": {
        "id": "DYCHJnK3qTN8"
      }
    },
    {
      "cell_type": "markdown",
      "source": [
        "#### We can compare true RBF kernel function and approximation using RFFs"
      ],
      "metadata": {
        "id": "DURcAI0n0vG-"
      }
    },
    {
      "cell_type": "code",
      "source": [
        "import numpy as np\n",
        "import matplotlib.pyplot as plt\n",
        "np.set_printoptions(formatter={'float': '{: 0.4f}'.format})\n",
        "plt.style.use('dark_background')"
      ],
      "metadata": {
        "id": "LAakHns80qMP"
      },
      "execution_count": 1,
      "outputs": []
    },
    {
      "cell_type": "code",
      "source": [
        "def rbf_rff_comparison(idx, d=1, m=150, n=100, sigma=1.):\n",
        "    x = np.linspace(0, 6, n) # n: number of data\n",
        "    omega = np.random.normal(0, 1/sigma, (d, m)) # d: data dim, m: number of RFFs\n",
        "    b = np.random.uniform(0, 2*np.pi, (1, m))\n",
        "\n",
        "    # RFFs\n",
        "    phi = np.sqrt(2/m) * np.cos(x.reshape(-1, 1) @ omega + b)\n",
        "    print(phi.shape)\n",
        "\n",
        "    # Anchor point\n",
        "    x_1 = x[idx]\n",
        "\n",
        "    # Compute RBF function centered at x_1\n",
        "    rbf_function = np.exp(-0.5 * (x - x_1)**2 / sigma**2)\n",
        "    print(rbf_function.shape)\n",
        "\n",
        "    # Compute approximation based on RFFs\n",
        "    rff_approximation = phi @ phi[idx].T\n",
        "    print(rff_approximation.shape)\n",
        "\n",
        "    # Plot both\n",
        "    plt.figure(figsize=(8,4))\n",
        "    plt.plot(x, rbf_function, 'm', linewidth=2, label='RBF function')\n",
        "    plt.plot(x, rff_approximation, 'c', linewidth=2, label='RFF approximation')\n",
        "    plt.legend()\n",
        "    plt.show()"
      ],
      "metadata": {
        "id": "5ZnoUXS6W7kq"
      },
      "execution_count": 2,
      "outputs": []
    },
    {
      "cell_type": "code",
      "source": [
        "np.random.seed(42)\n",
        "\n",
        "rbf_rff_comparison(idx=100//2, d=1, m=400, n=300, sigma=0.3)"
      ],
      "metadata": {
        "colab": {
          "base_uri": "https://localhost:8080/",
          "height": 422
        },
        "id": "eI94uMq-w4yF",
        "outputId": "0be82726-d0e0-49f1-dda1-7a85af0d891e"
      },
      "execution_count": 7,
      "outputs": [
        {
          "output_type": "stream",
          "name": "stdout",
          "text": [
            "(300, 400)\n",
            "(300,)\n",
            "(300,)\n"
          ]
        },
        {
          "output_type": "display_data",
          "data": {
            "text/plain": [
              "<Figure size 800x400 with 1 Axes>"
            ],
            "image/png": "[encoded data removed]"
          },
          "metadata": {}
        }
      ]
    },
    {
      "cell_type": "code",
      "source": [],
      "metadata": {
        "id": "7XPiS2ueyqiY"
      },
      "execution_count": 3,
      "outputs": []
    }
  ]
}