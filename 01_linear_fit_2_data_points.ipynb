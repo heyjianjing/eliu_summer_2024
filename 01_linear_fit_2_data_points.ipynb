{
  "nbformat": 4,
  "nbformat_minor": 0,
  "metadata": {
    "colab": {
      "provenance": []
    },
    "kernelspec": {
      "name": "python3",
      "display_name": "Python 3"
    },
    "language_info": {
      "name": "python"
    },
    "gpuClass": "standard"
  },
  "cells": [
    {
      "cell_type": "markdown",
      "source": [
        "#### Find a `linear model` to fit data points"
      ],
      "metadata": {
        "id": "FR-9oMuUK7UT"
      }
    },
    {
      "cell_type": "markdown",
      "source": [
        "If we have two data points, say\n",
        "\n",
        "$$(x_1, y_1)=(3,5),\\, (x_2, y_2)=(4,6)$$\n",
        "\n",
        "We can create a `linear` model $y=ax+b$, where $a$ and $b$ are model `parameters` which we will obtain by `fitting` this model to the data points\n",
        "\n",
        "This creates a set of equations\n",
        "\n",
        "$$\\begin{align*}\n",
        "5&=a\\cdot 3+b\\\\\n",
        "6&=a\\cdot 4+b\n",
        "\\end{align*}$$\n",
        "\n",
        "and we can get\n",
        "\n",
        "$$\\begin{align*}\n",
        "a&=1\\\\\n",
        "b&=2\n",
        "\\end{align*}$$"
      ],
      "metadata": {
        "id": "fy2PzPtaRKdZ"
      }
    },
    {
      "cell_type": "markdown",
      "source": [
        "#### `Matrix` notation"
      ],
      "metadata": {
        "id": "nqQu8xKELIgu"
      }
    },
    {
      "cell_type": "markdown",
      "source": [
        "To better investigate such problems, we will use matrix notation\n",
        "\n",
        "Note that the set of equations can also be written as\n",
        "\n",
        "$$\\begin{align*}\n",
        "5&=a\\cdot 3+b\\cdot 1\\\\\n",
        "6&=a\\cdot 4+b\\cdot 1\n",
        "\\end{align*}$$\n",
        "\n",
        "Or\n",
        "\n",
        "$$y=A\\theta$$\n",
        "\n",
        "where\n",
        "\n",
        "$$y=\\begin{bmatrix} 5 \\\\ 6 \\end{bmatrix},\\, A=\\begin{bmatrix} 3 & 1 \\\\ 4 & 1 \\end{bmatrix},\\, \\mathbf{\\theta}=\\begin{bmatrix} a \\\\ b \\end{bmatrix}$$\n",
        "\n",
        "and the first column of $A$ is $\\begin{bmatrix} x_1 \\\\ x_2 \\end{bmatrix}$"
      ],
      "metadata": {
        "id": "E4EKYzZdSRf3"
      }
    },
    {
      "cell_type": "markdown",
      "source": [
        "#### `Solution` through inverse"
      ],
      "metadata": {
        "id": "u_76SZWQLtU-"
      }
    },
    {
      "cell_type": "markdown",
      "source": [
        "Similar to $y=ax$ where we can get $a=x^{-1}y$, for `square` matrix $A$, it is also possible that\n",
        "\n",
        "$$\\theta=A^{-1}y$$\n",
        "\n",
        "where we call $A^{-1}$ an `inverse` of $A$\n",
        "\n",
        "For 2x2 matrix $A=\\begin{bmatrix} a & b \\\\ c & d \\end{bmatrix}$, we have the equation\n",
        "\n",
        "$$A^{-1}=\\frac{1}{ad-bc}\\begin{bmatrix} d & -b \\\\ -c & a \\end{bmatrix}$$\n",
        "\n",
        "as long as $ad-bc\\neq0$"
      ],
      "metadata": {
        "id": "Wezg0HPWUAXB"
      }
    },
    {
      "cell_type": "markdown",
      "source": [
        "#### Putting everything together"
      ],
      "metadata": {
        "id": "ionYHMrBMB4A"
      }
    },
    {
      "cell_type": "markdown",
      "source": [
        "$$\\begin{align*}\\mathbf{\\theta}&=\\frac{1}{ad-bc}\\begin{bmatrix} d & -b \\\\ -c & a \\end{bmatrix}y\\\\\n",
        "&=\\frac{1}{3\\cdot 1-4\\cdot 1}\\begin{bmatrix} 1 & -1 \\\\ -4 & 3 \\end{bmatrix}\\begin{bmatrix} 5 \\\\ 6 \\end{bmatrix}\n",
        "\\end{align*}$$"
      ],
      "metadata": {
        "id": "jki2wiu8VtAY"
      }
    },
    {
      "cell_type": "markdown",
      "source": [
        "We don't have to compute by hand, we can use `NumPy`"
      ],
      "metadata": {
        "id": "m2oVvmI_MIoj"
      }
    },
    {
      "cell_type": "code",
      "source": [
        "import numpy as np\n",
        "import matplotlib.pyplot as plt\n",
        "\n",
        "np.set_printoptions(formatter={'float': '{: 0.4f}'.format})\n",
        "plt.style.use('dark_background')"
      ],
      "metadata": {
        "id": "nJgOaNMgTmV0"
      },
      "execution_count": null,
      "outputs": []
    },
    {
      "cell_type": "code",
      "source": [
        "A = np.array([[3, 1], [4, 1]])\n",
        "y = np.array([5, 6])"
      ],
      "metadata": {
        "id": "G60A9dFAWwUf"
      },
      "execution_count": null,
      "outputs": []
    },
    {
      "cell_type": "markdown",
      "source": [
        "Use `@` for matrix/vector multiplication, and `*` for multiplication with scaler"
      ],
      "metadata": {
        "id": "aczJ-oMfXAnQ"
      }
    },
    {
      "cell_type": "code",
      "source": [
        "theta = 1/(3*1-4*1)*np.array([[1, -1], [-4, 3]])@y\n",
        "theta"
      ],
      "metadata": {
        "colab": {
          "base_uri": "https://localhost:8080/"
        },
        "id": "5FnT3DbBW0k0",
        "outputId": "2c623f00-3639-420a-c891-a542e41deeea"
      },
      "execution_count": null,
      "outputs": [
        {
          "output_type": "execute_result",
          "data": {
            "text/plain": [
              "array([ 1.0000,  2.0000])"
            ]
          },
          "metadata": {},
          "execution_count": 8
        }
      ]
    },
    {
      "cell_type": "markdown",
      "source": [
        "Or, we can use NumPy's command for inverse `np.linalg.inv(A)` to compute $A^{-1}$ directly"
      ],
      "metadata": {
        "id": "enxVROePXMx-"
      }
    },
    {
      "cell_type": "code",
      "source": [
        "theta = np.linalg.inv(A)@y\n",
        "theta"
      ],
      "metadata": {
        "colab": {
          "base_uri": "https://localhost:8080/"
        },
        "id": "uAleBa5tW86g",
        "outputId": "98aadedd-395f-44de-95f9-7a3422ad5234"
      },
      "execution_count": null,
      "outputs": [
        {
          "output_type": "execute_result",
          "data": {
            "text/plain": [
              "array([ 1.0000,  2.0000])"
            ]
          },
          "metadata": {},
          "execution_count": 9
        }
      ]
    },
    {
      "cell_type": "markdown",
      "source": [
        "We can then plot the data points and line to see the results"
      ],
      "metadata": {
        "id": "NiRHaz5UXYT8"
      }
    },
    {
      "cell_type": "code",
      "source": [
        "def prediction(x, theta):\n",
        "    return theta[0]*x + theta[1]\n",
        "\n",
        "fig, ax=plt.subplots(figsize=(6,4))\n",
        "\n",
        "plt.scatter(A[:,0], y, color='cyan', label='Data', edgecolors='w')\n",
        "ax.plot([0,6],[prediction(0, theta), prediction(6, theta)],'r-', label='Model',zorder=-5)\n",
        "\n",
        "ax.set_xlabel('x')\n",
        "ax.set_ylabel('y')\n",
        "plt.tight_layout()\n",
        "plt.legend()\n",
        "plt.show()"
      ],
      "metadata": {
        "colab": {
          "base_uri": "https://localhost:8080/",
          "height": 407
        },
        "id": "x9RauGzfXWir",
        "outputId": "8f049d26-b222-48ca-c4b6-4e8eb2805f68"
      },
      "execution_count": null,
      "outputs": [
        {
          "output_type": "display_data",
          "data": {
            "text/plain": [
              "<Figure size 600x400 with 1 Axes>"
            ],
            "image/png": "[encoded data removed]"
          },
          "metadata": {}
        }
      ]
    }
  ]
}