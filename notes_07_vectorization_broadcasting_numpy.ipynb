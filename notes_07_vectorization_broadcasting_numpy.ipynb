{
  "nbformat": 4,
  "nbformat_minor": 0,
  "metadata": {
    "colab": {
      "provenance": []
    },
    "kernelspec": {
      "name": "python3",
      "display_name": "Python 3"
    },
    "language_info": {
      "name": "python"
    },
    "gpuClass": "standard"
  },
  "cells": [
    {
      "cell_type": "markdown",
      "source": [
        "#### What is vectorization?"
      ],
      "metadata": {
        "id": "itJlhKr3UQgr"
      }
    },
    {
      "cell_type": "markdown",
      "source": [
        "NumPy vectorization involves performing mathematical operations on `entire arrays`, eliminating the need to loop through individual elements, which is notoriously slow in Python\n",
        "\n",
        "The aspect that is relevant to us for now is `broadcasting`"
      ],
      "metadata": {
        "id": "4cmnNqvLz2qP"
      }
    },
    {
      "cell_type": "markdown",
      "source": [
        "#### Broadcasting"
      ],
      "metadata": {
        "id": "MEYcwye1hBjn"
      }
    },
    {
      "cell_type": "markdown",
      "source": [
        "(from James Murphy https://mcoding.io/)\n",
        "\n",
        "The term broadcasting describes how NumPy treats `arrays with different shapes` during operations in a practical and reasonable way, providing a means of `vectorizing` array operations\n",
        "\n",
        "So, what do we mean by practical and reasonable?"
      ],
      "metadata": {
        "id": "bk-txrRghDJy"
      }
    },
    {
      "cell_type": "markdown",
      "source": [
        "For example\n",
        "\n",
        "$$\\begin{bmatrix}0 & 1 & 2 \\\\\n",
        "3 & 4 & 5\\end{bmatrix}+\\begin{bmatrix}1 & 2 & 3\\end{bmatrix}=\\begin{bmatrix}1 & 3 & 5 \\\\ 4 & 6 & 8\\end{bmatrix}$$\n",
        "\n",
        "and\n",
        "\n",
        "$$\\begin{bmatrix}0 & 1 & 2 \\\\\n",
        "3 & 4 & 5\\end{bmatrix}+\\begin{bmatrix}1 \\\\ 2\\end{bmatrix}=\\begin{bmatrix}1 & 2 & 3 \\\\ 5 & 6 & 7\\end{bmatrix}$$\n",
        "\n",
        "It is clear how these operations would typically be handled, even though the matrices have different shapes\n",
        "\n",
        "Broadcasting aims to fulfill such operations, and it works with plus, minus, times, exponential, min/max and more operations we can think of"
      ],
      "metadata": {
        "id": "uFH8kzH-hkJM"
      }
    },
    {
      "cell_type": "markdown",
      "source": [
        "#### Broadcasting rules"
      ],
      "metadata": {
        "id": "3wo0uyfzioS2"
      }
    },
    {
      "cell_type": "markdown",
      "source": [
        "The rules of broadcasting are\n",
        "\n",
        "* If two arrays have `different number of dimensions`, prepend `1`'s to the shape of the array with smaller number of dimensions\n",
        "* After the number of dimensions matches, any dimension for which one array has a `size of 1` can be broadcasted to the `size of this dimension in the other array`\n",
        "* All other dimensions must have matching sizes\n",
        "\n",
        "We can verify that these rules are used in the two examples above"
      ],
      "metadata": {
        "id": "xMtZohr5irKC"
      }
    },
    {
      "cell_type": "markdown",
      "source": [
        "In the first example, the shape of the arrays are (2, 3) and (1, 3), then using the broadcasting rules\n",
        "\n",
        "* we see the first dimension can be broadcasted as the size of this dimension for the second array is `1`\n",
        "* after broadcasting to the size of the first dimension of the first array, which is `2`, the broadcasted version of the second array is\n",
        "$$\\begin{bmatrix}1 & 2 & 3 \\\\ 1 & 2 & 3\\end{bmatrix}$$\n",
        "which has shape (2, 3), making it compatible with the first array"
      ],
      "metadata": {
        "id": "Bu0UJw1KjexG"
      }
    },
    {
      "cell_type": "markdown",
      "source": [
        "Similarly, in the second example, the shape of the arrays are (2, 3) and (2, 1), then using the broadcasting rules\n",
        "\n",
        "* we see the second dimension can be broadcasted as the size of this dimension for the second array is `1`\n",
        "* after broadcasting to the size of the second dimension of the first array, which is `3`, the broadcasted version of the second array is\n",
        "$$\\begin{bmatrix}1 & 1 & 1 \\\\ 2 & 2 & 2\\end{bmatrix}$$\n",
        "which has shape (2, 3), making it compatible with the first array"
      ],
      "metadata": {
        "id": "NCf7gScqkncK"
      }
    },
    {
      "cell_type": "markdown",
      "source": [
        "#### A useful case of broadcasting"
      ],
      "metadata": {
        "id": "pIuAm-p_lA2z"
      }
    },
    {
      "cell_type": "markdown",
      "source": [
        "A useful case for our purpose is to compute the kernel matrix $X_k$, for example, for an array $x=x_1 ,\\cdots, x_n$, we want each entry of $X_{k}$ to be\n",
        "\n",
        "$$X_{k, ij}=\\exp\\left(-\\frac{1}{2}(x_i-x_j)^2\\right)$$"
      ],
      "metadata": {
        "id": "if4ANEC8lHak"
      }
    },
    {
      "cell_type": "code",
      "source": [
        "import numpy as np\n",
        "import time\n",
        "np.set_printoptions(formatter={'float': '{: 0.4f}'.format})"
      ],
      "metadata": {
        "id": "LAakHns80qMP"
      },
      "execution_count": 6,
      "outputs": []
    },
    {
      "cell_type": "code",
      "source": [
        "x = (np.linspace(0, 1, 1000)).reshape(-1, 1)\n",
        "# This is what our data would look like\n",
        "# dim[0] is number of samples, and dim[1] is number of features\n",
        "print(x.shape)"
      ],
      "metadata": {
        "id": "5ZnoUXS6W7kq",
        "colab": {
          "base_uri": "https://localhost:8080/"
        },
        "outputId": "a9a63a06-7e96-4987-b691-2ba51ca88f03"
      },
      "execution_count": 7,
      "outputs": [
        {
          "output_type": "stream",
          "name": "stdout",
          "text": [
            "(1000, 1)\n"
          ]
        }
      ]
    },
    {
      "cell_type": "code",
      "source": [
        "def rbf_kernel(x_set_1, x_set_2):\n",
        "    if np.ndim(x_set_2) == 1:\n",
        "        x_set_2 = x_set_2.reshape(-1, 1)\n",
        "    if np.ndim(x_set_1) == 1:\n",
        "        x_set_1 = x_set_1.reshape(-1, 1)\n",
        "    num_rows = x_set_1.shape[0]\n",
        "    num_cols = x_set_2.shape[0]\n",
        "    k_mat = np.zeros((num_rows, num_cols))\n",
        "    for i in range(num_rows):\n",
        "        for j in range(num_cols):\n",
        "            sq_dist = np.sum((x_set_1[i,:] - x_set_2[j,:])**2)\n",
        "            k_mat[i, j] = np.exp(-sq_dist / 2)\n",
        "\n",
        "    return k_mat"
      ],
      "metadata": {
        "id": "A635AwGsnoYh"
      },
      "execution_count": 8,
      "outputs": []
    },
    {
      "cell_type": "code",
      "source": [
        "def rbf_kernel_vectorized(x_set_1, x_set_2):\n",
        "    num_points_1 = x_set_1.shape[0]\n",
        "    num_points_2 = x_set_2.shape[0]\n",
        "\n",
        "    x1_sq_norms = np.sum(x_set_1 ** 2, axis=1).reshape(num_points_1, 1)  # Shape (num_points_1, 1)\n",
        "    x2_sq_norms = np.sum(x_set_2 ** 2, axis=1).reshape(1, num_points_2)  # Shape (1, num_points_2)\n",
        "\n",
        "    # Broadcasting step\n",
        "    sq_dists = x1_sq_norms + x2_sq_norms - 2 * np.dot(x_set_1, x_set_2.T)  # Shape (num_points_1, num_points_2)\n",
        "    k_mat = np.exp(-sq_dists / 2)\n",
        "\n",
        "    return k_mat"
      ],
      "metadata": {
        "id": "wmgZAk7lnzeC"
      },
      "execution_count": 9,
      "outputs": []
    },
    {
      "cell_type": "code",
      "source": [
        "start_time = time.time()\n",
        "rbf_kernel = rbf_kernel(x, x)\n",
        "print(rbf_kernel.shape)\n",
        "print(f\"Time taken using loop: {time.time() - start_time:.4f} seconds\")\n",
        "\n",
        "start_time = time.time()\n",
        "rbf_kernel_vectorized = rbf_kernel_vectorized(x, x)\n",
        "print(rbf_kernel_vectorized.shape)\n",
        "print(f\"Time taken using broadcasting: {time.time() - start_time:.4f} seconds\")"
      ],
      "metadata": {
        "colab": {
          "base_uri": "https://localhost:8080/"
        },
        "id": "IarHtBhboGjd",
        "outputId": "9986aac1-24a0-4cca-b36f-9d2650aa7ae3"
      },
      "execution_count": 10,
      "outputs": [
        {
          "output_type": "stream",
          "name": "stdout",
          "text": [
            "(1000, 1000)\n",
            "Time taken using loop: 9.6198 seconds\n",
            "(1000, 1000)\n",
            "Time taken using broadcasting: 0.0334 seconds\n"
          ]
        }
      ]
    }
  ]
}