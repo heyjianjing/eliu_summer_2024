{
  "nbformat": 4,
  "nbformat_minor": 0,
  "metadata": {
    "colab": {
      "provenance": []
    },
    "kernelspec": {
      "name": "python3",
      "display_name": "Python 3"
    },
    "language_info": {
      "name": "python"
    },
    "gpuClass": "standard"
  },
  "cells": [
    {
      "cell_type": "markdown",
      "source": [
        "#### `Equality constrained` optimization"
      ],
      "metadata": {
        "id": "D4P76UVhbYme"
      }
    },
    {
      "cell_type": "markdown",
      "source": [
        "For twice-differentiable `convex` function $f: \\mathbf{R}^n \\rightarrow \\mathbf{R}$, we want to\n",
        "\n",
        "$$\\min f(x), \\text{s.t. } Ax=b$$\n",
        "\n",
        "where $A\\in \\mathbf{R}^{p \\times n}, \\, \\text{rank }A=p$, and $p^*$ is optimal value"
      ],
      "metadata": {
        "id": "19fx_-oNCIUd"
      }
    },
    {
      "cell_type": "markdown",
      "source": [
        "We can write out the if and only if `optimality condition` (primal feasibility and vanishing gradient of Lagrangian)\n",
        "\n",
        "$$x\\in \\text{dom }f, \\, Ax=b, \\nabla f(x)+A^T\\nu = 0$$\n",
        "\n",
        "for Lagrange multipliers $\\nu \\in \\mathbf{R}^p$"
      ],
      "metadata": {
        "id": "qw-HDXN1Ae_6"
      }
    },
    {
      "cell_type": "markdown",
      "source": [
        "#### `Quadratic` example"
      ],
      "metadata": {
        "id": "-y5XzD5AKii1"
      }
    },
    {
      "cell_type": "markdown",
      "source": [
        "$$\\min \\frac{1}{2}x^TPx+q^Tx+r, \\text{s.t. } Ax=b$$\n",
        "\n",
        "where $P\\in S^n_+, \\text{rank }A=p$"
      ],
      "metadata": {
        "id": "dgB5g1OxKltm"
      }
    },
    {
      "cell_type": "markdown",
      "source": [
        "We can write the optimality condition\n",
        "\n",
        "$$Ax+b,\\, Px+q+A^Tv=0$$\n",
        "\n",
        "which is a set of $n+p$ linear equations in $n+p$ variables\n",
        "\n",
        "$$\\begin{bmatrix}P & A^T \\\\\n",
        "A & 0\\end{bmatrix}\\begin{bmatrix}x \\\\ v\\end{bmatrix}=\\begin{bmatrix}-q \\\\ b\\end{bmatrix}$$\n",
        "\n",
        "where the coefficient matrix is the `KKT matrix`"
      ],
      "metadata": {
        "id": "3k7yXS_xK5YB"
      }
    },
    {
      "cell_type": "markdown",
      "source": [
        "The following are three conditions equivalent for `nonsingularity` of KKT matrix\n",
        "\n",
        "* $\\text{rank}(\\begin{bmatrix}P \\\\ A\\end{bmatrix})=n$\n",
        "* $P$ is PD on the nullspace of $A$\n",
        "$$Ax=0, \\, x\\neq 0 \\,\\Longrightarrow x^TPx>0$$\n",
        "* $P+A^TA$ is PD"
      ],
      "metadata": {
        "id": "nktQ8AIdLqks"
      }
    },
    {
      "cell_type": "markdown",
      "source": [
        "##### Condition `#1`"
      ],
      "metadata": {
        "id": "-IyAgOj15m5v"
      }
    },
    {
      "cell_type": "markdown",
      "source": [
        "$$\\text{rank}(\\begin{bmatrix}P \\\\ A\\end{bmatrix})=n$$\n",
        "\n",
        "Apparently, KKT full rank $\\Longrightarrow$ first $n$ columns are independent (necessary condition)"
      ],
      "metadata": {
        "id": "NG75xH0AN1th"
      }
    },
    {
      "cell_type": "markdown",
      "source": [
        "To show that first $n$ columns in KKT are independent $\\Longrightarrow$ KKT invertible (sufficient condition), we assume KKT is not invertible\n",
        "\n",
        "Then, there exists `non-zero` $x, \\nu$ such that\n",
        "\n",
        "$$Px+A^T\\nu=0, Ax=0$$\n",
        "\n",
        "or (left multiply by $x^T$ in first equation, and transpose and right multiply $\\nu$ in second equation)\n",
        "\n",
        "$$x^TPx+x^TA^T\\nu=0, x^TA^T\\nu=0$$\n",
        "\n",
        "Therefore, $x^TPx=0$\n",
        "\n",
        "Since $P$ is PSD, the only way this happens is $Px=0$\n",
        "\n",
        "Therefore, we have\n",
        "\n",
        "$$\\begin{bmatrix}P\\\\A\\end{bmatrix}x=0$$\n",
        "\n",
        "Since $\\begin{bmatrix}P\\\\A\\end{bmatrix}$ has full column rank, the only way this happens is that $x=0$\n"
      ],
      "metadata": {
        "id": "FE9qGSlLR23G"
      }
    },
    {
      "cell_type": "markdown",
      "source": [
        "With $Px=0$, we have must $A^T\\nu=0$\n",
        "\n",
        "Since $\\text{rank }A=p$, then, all of its $p$ rows (or $p$ columns of $A^T$) are independent, therefore $\\nu=0$  \n",
        "\n",
        "We have the contradiction, thus, KKT is invertible"
      ],
      "metadata": {
        "id": "rwUZCNqG2G9H"
      }
    },
    {
      "cell_type": "markdown",
      "source": [
        "##### Condition `#2`"
      ],
      "metadata": {
        "id": "Sz5mEohv6ott"
      }
    },
    {
      "cell_type": "markdown",
      "source": [
        "The condition\n",
        "$$Ax=0, \\, x\\neq 0 \\,\\Longrightarrow x^TPx>0$$\n",
        "\n",
        "implies that\n",
        "\n",
        "$$x^TPx=0, \\,Ax=0 \\Longrightarrow x=0$$\n",
        "\n",
        "with $P$ being PSD, we have $Px=0, Ax=0$\n",
        "\n",
        "If this leads to $x=0$, then $\\begin{bmatrix}P\\\\A\\end{bmatrix}$ has full column rank\n",
        "\n",
        "Reverse is straightforward"
      ],
      "metadata": {
        "id": "5t_grb2I6qx_"
      }
    },
    {
      "cell_type": "markdown",
      "source": [
        "##### Condition `#3`"
      ],
      "metadata": {
        "id": "3vTh95px8KMD"
      }
    },
    {
      "cell_type": "markdown",
      "source": [
        "$$x^T(P+A^TA)x=x^TPx+x^TA^TAx$$\n",
        "\n",
        "Apparently $x^TA^TAx\\geq 0$\n",
        "\n",
        "Therefore, if $P+A^TA$ is PD, and since $P$ is PSD, we must have\n",
        "\n",
        "$$x^TPx=0, x^TA^TAx=0 \\Longrightarrow x=0$$\n",
        "\n",
        "The rest follows condition #2"
      ],
      "metadata": {
        "id": "KNa7yy2K83mF"
      }
    },
    {
      "cell_type": "markdown",
      "source": [
        "#### Equality constrained `Newton` step and Newton decrement"
      ],
      "metadata": {
        "id": "Hs3o2T1xG6BI"
      }
    },
    {
      "cell_type": "markdown",
      "source": [
        "Recall Newton step in unconstrained optimization is based on 2nd order Taylor approximation of the function at some $x$\n",
        "\n",
        "$$\\begin{align*}\n",
        "\\Delta x_{nt}&=\\arg \\min_v f(x+v) \\\\\n",
        "&\\approx \\arg \\min_v f(x)+\\nabla f(x)^Tv+\\frac{1}{2}v^T\\nabla^2 f(x) v\n",
        "\\end{align*}$$\n",
        "\n",
        "With equality constraint (assume $x\\in \\text{dom }f$ and $Ax=b$)\n",
        "\n",
        "$$A(x+v)=b$$\n",
        "\n",
        "we can write the `optimality conditions` ($x\\in \\text{dom }f, \\, Ax=b, \\nabla f(x)+A^T\\nu = 0$) as\n",
        "\n",
        "$$A(x+v)=b ,\\, \\nabla f(x+v)+A^Tw \\approx \\nabla f(x) + \\nabla^2f(x)v+A^Tw=0$$"
      ],
      "metadata": {
        "id": "2DQYNZ2QHE9Y"
      }
    },
    {
      "cell_type": "markdown",
      "source": [
        "Using KKT matrix, and with $A(x+v)=b, Ax=b \\Longrightarrow Av=0$, we can see that the solution of $v$ that is `Newton step` solves\n",
        "\n",
        "$$\\begin{bmatrix}\n",
        "\\nabla^2 f(x) & A^T \\\\ A & 0\n",
        "\\end{bmatrix}\\begin{bmatrix}\n",
        "v\\\\w\n",
        "\\end{bmatrix}=\\begin{bmatrix}\n",
        "-\\nabla f(x)\\\\0\n",
        "\\end{bmatrix}$$"
      ],
      "metadata": {
        "id": "uLS6tYeSIfId"
      }
    },
    {
      "cell_type": "markdown",
      "source": [
        "Similarly, we define `Newton decrement` as\n",
        "\n",
        "$$\\begin{align*}\n",
        "\\lambda(x)= \\left(\\Delta x_{nt}^T \\nabla^2 f(x) \\Delta x_{nt}\\right)^{1/2}\n",
        "\\end{align*}$$\n",
        "\n",
        "which is still the Newton step measured using quadratic norm under the Hessian, and gives estimate of $f(x)-p^*$"
      ],
      "metadata": {
        "id": "zs4ChreJJ8iZ"
      }
    },
    {
      "cell_type": "markdown",
      "source": [
        "`However`, in general\n",
        "\n",
        "$$\\lambda(x)\\neq\\left(\\nabla f(x)^T \\nabla^2f(x)^{-1}\\nabla f(x)\\right)^{1/2}$$\n",
        "\n",
        "since in general for constrained case\n",
        "\n",
        "$$\\Delta x_{nt}\\neq \\nabla^2f(x)^{-1}\\nabla f(x)$$"
      ],
      "metadata": {
        "id": "gc8SbIQ8KVFy"
      }
    },
    {
      "cell_type": "markdown",
      "source": [
        "##### `Newton's method` with equality constraints"
      ],
      "metadata": {
        "id": "b9BTSDW7LAyX"
      }
    },
    {
      "cell_type": "markdown",
      "source": [
        "We now have steps for Newton's method with equality constraints\n",
        "\n",
        "Start with a `feasible point` $x\\in \\text{dom }f, Ax=b$\n",
        "* compute Newton `step` $\\Delta x_{nt}$ from KKT equation and Newton `decrement`\n",
        "$$\\lambda(x)=\\left(\\Delta x_{nt}^T \\nabla^2 f(x) \\Delta x_{nt}\\right)^{1/2}$$\n",
        "* stopping criterion\n",
        "$$\\frac{1}{2}\\lambda(x)^2 \\leq \\epsilon$$\n",
        "* line search for `step size`, starting at $t=1$, backtrack $t\\leftarrow \\beta t$ until\n",
        "$$\\begin{align*}f(x+t\\Delta x_{nt})&<f(x)+\\alpha t \\nabla f(x)^T\\Delta x_{nt} \\\\\n",
        "& = f(x)-\\alpha t \\lambda(x)^2\n",
        "\\end{align*}$$\n",
        "* update\n",
        "$$x\\leftarrow x+t\\Delta x_{nt}$$"
      ],
      "metadata": {
        "id": "0y6GIqbbLD_R"
      }
    },
    {
      "cell_type": "code",
      "source": [],
      "metadata": {
        "id": "XwGF2jT0JyBf"
      },
      "execution_count": null,
      "outputs": []
    }
  ]
}