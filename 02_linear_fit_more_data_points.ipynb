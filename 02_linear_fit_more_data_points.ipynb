{
  "nbformat": 4,
  "nbformat_minor": 0,
  "metadata": {
    "colab": {
      "provenance": []
    },
    "kernelspec": {
      "name": "python3",
      "display_name": "Python 3"
    },
    "language_info": {
      "name": "python"
    },
    "gpuClass": "standard"
  },
  "cells": [
    {
      "cell_type": "markdown",
      "source": [
        "#### Find a linear model to fit three data points"
      ],
      "metadata": {
        "id": "RshHz9wfNUCi"
      }
    },
    {
      "cell_type": "markdown",
      "source": [
        "If we have three data points\n",
        "\n",
        "$$(x_1, y_1)=(3,5),\\, (x_2, y_2)=(4,6),\\, (x_3, y_3)=(1,4)$$\n",
        "\n",
        "the linear model in matrix notation has the same form\n",
        "\n",
        "$$y=A\\theta$$\n",
        "\n",
        "where\n",
        "\n",
        "$$y=\\begin{bmatrix} 5 \\\\ 6 \\\\ 4 \\end{bmatrix},\\, A=\\begin{bmatrix} 3 & 1 \\\\ 4 & 1 \\\\ 1 & 1\\end{bmatrix},\\, \\theta=\\begin{bmatrix} a \\\\ b \\end{bmatrix}$$"
      ],
      "metadata": {
        "id": "E4EKYzZdSRf3"
      }
    },
    {
      "cell_type": "markdown",
      "source": [
        "#### What about the `inverse`?"
      ],
      "metadata": {
        "id": "mAcJf13tNfpR"
      }
    },
    {
      "cell_type": "markdown",
      "source": [
        "Since $A$ is a `non-square` matrix, we can no longer compute $A^{-1}$ directly to get $\\theta$\n",
        "\n",
        "$$\\theta=A^{-1}y$$\n",
        "\n",
        "Instead, the formula becomes\n",
        "\n",
        "$$\\theta=(A^TA)^{-1}A^Ty$$\n",
        "\n",
        "$A^T$ is the `transpose` of $A$, where its rows become columns and columns become rows, for example\n",
        "\n",
        "$$A^T=\\begin{bmatrix} 3 & 4 & 1\\\\1 & 1 & 1 \\end{bmatrix}$$\n",
        "\n",
        "Since $A^TA$ is a square matrix, it is possible to take the inverse in this case\n",
        "\n",
        "Based on the equation, we can use NumPy to compute $\\theta$"
      ],
      "metadata": {
        "id": "Wezg0HPWUAXB"
      }
    },
    {
      "cell_type": "markdown",
      "source": [
        "#### Where does this equation come from?"
      ],
      "metadata": {
        "id": "L3WLT8P7K8p3"
      }
    },
    {
      "cell_type": "markdown",
      "source": [
        "In our case, for the two columns of\n",
        "\n",
        "$$A=\\begin{bmatrix} 3 & 1 \\\\ 4 & 1 \\\\ 1 & 1\\end{bmatrix}$$\n",
        "\n",
        "we can think them as two vectors (in 3D space). As long as they are not parallel, they can uniquely `define a plane` (in 3D space)\n",
        "\n",
        "By multiplying $A$ with $\\theta$, what we are doing is to `mix` these two vectors in a certain way and we call this new vector $y_{pred}$\n",
        "\n",
        "$$y_{pred}=A\\theta = a\\begin{bmatrix} 3  \\\\ 4  \\\\ 1 \\end{bmatrix}+b\\begin{bmatrix}  1 \\\\ 1 \\\\ 1\\end{bmatrix}$$\n",
        "\n",
        "`More importantly`, this new vector $y_{pred}$ is still in the plane that is defined by the two columns of $A$"
      ],
      "metadata": {
        "id": "ow9-P0wQLCPb"
      }
    },
    {
      "cell_type": "markdown",
      "source": [
        "Intuitively, finding the `best` $\\theta$ in our case is to find $\\theta$ such that $y_{pred}$ is `closest` to $y$\n",
        "\n",
        "Geometrically, we can think of finding a point $y_{pred}$ on the plane that is the closest to a given point $y$ (which, in our case, is not in the plane)\n",
        "\n",
        "So, where is this point?\n",
        "\n",
        "The answer is that it is the `projection` of $y$ onto the plane"
      ],
      "metadata": {
        "id": "cPJ6ly37Niru"
      }
    },
    {
      "cell_type": "markdown",
      "source": [
        "This also means that the vector connecting $y$ and $y_{pred}$ must be `perpendicular` to any vector in that plane defined by the two columns of $A$, and therefore\n",
        "\n",
        "$$y-A\\theta \\perp \\begin{bmatrix} 3  \\\\ 4  \\\\ 1 \\end{bmatrix}, \\, y-A\\theta \\perp \\begin{bmatrix}  1 \\\\ 1 \\\\ 1\\end{bmatrix}$$\n",
        "\n",
        "Using the property that if two vectors are perpendicular, their dot product is zero, we can write the above relationship as\n",
        "\n",
        "$$A^T(y-A\\theta)=\\begin{bmatrix} 3 & 4 & 1\\\\1 & 1 & 1 \\end{bmatrix}(y-A\\theta)=\\begin{bmatrix} \\begin{bmatrix} 3 \\\\ 4 \\\\1   \\end{bmatrix} \\cdot (y-A\\theta) \\\\ \\begin{bmatrix} 1 \\\\ 1 \\\\1   \\end{bmatrix} \\cdot (y-A\\theta)  \\end{bmatrix}=\\begin{bmatrix} 0\\\\0   \\end{bmatrix}$$\n",
        "\n",
        "Rearrange and we have the equation\n",
        "\n",
        "$$A^Ty-A^TA\\theta=0 \\Rightarrow \\theta = (A^TA)^{-1}A^Ty $$"
      ],
      "metadata": {
        "id": "IxX78EkzNy0s"
      }
    },
    {
      "cell_type": "code",
      "source": [
        "import numpy as np\n",
        "import matplotlib.pyplot as plt\n",
        "\n",
        "np.set_printoptions(formatter={'float': '{: 0.4f}'.format})\n",
        "plt.style.use('dark_background')"
      ],
      "metadata": {
        "id": "nJgOaNMgTmV0"
      },
      "execution_count": null,
      "outputs": []
    },
    {
      "cell_type": "code",
      "source": [
        "A = np.array([[3, 1], [4, 1], [1, 1]])\n",
        "y = np.array([5, 6, 4])"
      ],
      "metadata": {
        "id": "G60A9dFAWwUf"
      },
      "execution_count": null,
      "outputs": []
    },
    {
      "cell_type": "markdown",
      "source": [
        "We use `np.linalg.inv(A)` to compute $(A^TA)^{-1}$"
      ],
      "metadata": {
        "id": "enxVROePXMx-"
      }
    },
    {
      "cell_type": "code",
      "source": [
        "theta = np.linalg.inv(A.T@A)@A.T@y\n",
        "theta"
      ],
      "metadata": {
        "colab": {
          "base_uri": "https://localhost:8080/"
        },
        "id": "uAleBa5tW86g",
        "outputId": "c1b38854-662f-47c7-daab-6a4f586c932e"
      },
      "execution_count": null,
      "outputs": [
        {
          "output_type": "execute_result",
          "data": {
            "text/plain": [
              "array([ 0.6429,  3.2857])"
            ]
          },
          "metadata": {},
          "execution_count": 11
        }
      ]
    },
    {
      "cell_type": "markdown",
      "source": [
        "Then, we make the plot"
      ],
      "metadata": {
        "id": "NiRHaz5UXYT8"
      }
    },
    {
      "cell_type": "code",
      "source": [
        "def prediction(x, theta):\n",
        "    return theta[0]*x + theta[1]\n",
        "\n",
        "fig, ax=plt.subplots(figsize=(6,4))\n",
        "\n",
        "plt.scatter(A[:,0], y, color='cyan', label='Data', edgecolors='w')\n",
        "ax.plot([0,6],[prediction(0, theta), prediction(6, theta)],'r-', label='Model', zorder=-5)\n",
        "\n",
        "ax.set_xlabel('x')\n",
        "ax.set_ylabel('y')\n",
        "plt.tight_layout()\n",
        "plt.legend()\n",
        "plt.show()"
      ],
      "metadata": {
        "colab": {
          "base_uri": "https://localhost:8080/",
          "height": 407
        },
        "id": "x9RauGzfXWir",
        "outputId": "bae5fbbe-cd78-44b8-8bd6-f94c3d8f2183"
      },
      "execution_count": null,
      "outputs": [
        {
          "output_type": "display_data",
          "data": {
            "text/plain": [
              "<Figure size 600x400 with 1 Axes>"
            ],
            "image/png": "[encoded data removed]"
          },
          "metadata": {}
        }
      ]
    },
    {
      "cell_type": "markdown",
      "source": [
        "We see the model `no longer passes through each data points`, since $y$ is not in the plane defined by the columns of $A$"
      ],
      "metadata": {
        "id": "JYg1yMgocU_j"
      }
    },
    {
      "cell_type": "code",
      "source": [],
      "metadata": {
        "id": "4pb6mGPGOEOp"
      },
      "execution_count": null,
      "outputs": []
    }
  ]
}